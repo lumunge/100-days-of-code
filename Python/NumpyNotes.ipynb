{
  "nbformat": 4,
  "nbformat_minor": 0,
  "metadata": {
    "colab": {
      "name": "NumpyNotes.ipynb",
      "provenance": [],
      "collapsed_sections": [],
      "authorship_tag": "ABX9TyMvIHIdFjzIG9U63eoVExp6",
      "include_colab_link": true
    },
    "kernelspec": {
      "name": "python3",
      "display_name": "Python 3"
    },
    "language_info": {
      "name": "python"
    }
  },
  "cells": [
    {
      "cell_type": "markdown",
      "metadata": {
        "id": "view-in-github",
        "colab_type": "text"
      },
      "source": [
        "<a href=\"https://colab.research.google.com/github/lumunge/100-days-of-code/blob/master/Python/NumpyNotes.ipynb\" target=\"_parent\"><img src=\"https://colab.research.google.com/assets/colab-badge.svg\" alt=\"Open In Colab\"/></a>"
      ]
    },
    {
      "cell_type": "code",
      "execution_count": 2,
      "metadata": {
        "id": "vW5jhkbbfD8s"
      },
      "outputs": [],
      "source": [
        "# import numpy\n",
        "import numpy as np # alias"
      ]
    },
    {
      "cell_type": "code",
      "source": [
        "arr = np.array([1, 2, 3, 4, 5])"
      ],
      "metadata": {
        "id": "PP3VuZKbfL9T"
      },
      "execution_count": 16,
      "outputs": []
    },
    {
      "cell_type": "code",
      "source": [
        "arr1 = np.array((6, 4, 7, 8, 3))"
      ],
      "metadata": {
        "id": "4hscHwJ7kHn7"
      },
      "execution_count": 14,
      "outputs": []
    },
    {
      "cell_type": "code",
      "source": [
        "# print(arr1)\n",
        "# print(type(arr1))"
      ],
      "metadata": {
        "colab": {
          "base_uri": "https://localhost:8080/"
        },
        "id": "z5L-jTM7kOIf",
        "outputId": "7ffdc975-22d8-498c-e742-251c6a56a36c"
      },
      "execution_count": 10,
      "outputs": [
        {
          "output_type": "stream",
          "name": "stdout",
          "text": [
            "[6 4 7 8 3]\n",
            "<class 'numpy.ndarray'>\n"
          ]
        }
      ]
    },
    {
      "cell_type": "code",
      "source": [
        "arr2 = np.array(20)   \n",
        "# print(arr2)"
      ],
      "metadata": {
        "id": "yh24-ZBxkTUt"
      },
      "execution_count": 13,
      "outputs": []
    },
    {
      "cell_type": "code",
      "source": [
        "arr3 = np.array([6, 8, 9, 3, 1, 7])\n",
        "print(arr3)\n",
        "print(type(arr3))"
      ],
      "metadata": {
        "colab": {
          "base_uri": "https://localhost:8080/"
        },
        "id": "r6tga-_TkZZa",
        "outputId": "45afe2df-119e-4b60-a59d-dc1ae0a16ec7"
      },
      "execution_count": 18,
      "outputs": [
        {
          "output_type": "stream",
          "name": "stdout",
          "text": [
            "[6 8 9 3 1 7]\n",
            "<class 'numpy.ndarray'>\n"
          ]
        }
      ]
    },
    {
      "cell_type": "code",
      "source": [
        "arr4 = np.array([[1, 2, 3], [4, 5, 6], [7, 8, 9]])\n",
        "print(arr4)"
      ],
      "metadata": {
        "colab": {
          "base_uri": "https://localhost:8080/"
        },
        "id": "TOUYf2pIkr0V",
        "outputId": "5e599acf-237e-4c37-c14d-185786e219d2"
      },
      "execution_count": 15,
      "outputs": [
        {
          "output_type": "stream",
          "name": "stdout",
          "text": [
            "[[1 2 3]\n",
            " [4 5 6]\n",
            " [7 8 9]]\n"
          ]
        }
      ]
    },
    {
      "cell_type": "code",
      "source": [
        "arr5 = np.array([[[1, 2, 3], [4, 5, 6]], [[7, 8, 9], [10, 11, 12]]])\n",
        "print(arr5)"
      ],
      "metadata": {
        "colab": {
          "base_uri": "https://localhost:8080/"
        },
        "id": "x0qRX3BMk2DA",
        "outputId": "9da39cc0-12b0-4a10-8083-52f0fb9e3d10"
      },
      "execution_count": 16,
      "outputs": [
        {
          "output_type": "stream",
          "name": "stdout",
          "text": [
            "[[[ 1  2  3]\n",
            "  [ 4  5  6]]\n",
            "\n",
            " [[ 7  8  9]\n",
            "  [10 11 12]]]\n"
          ]
        }
      ]
    },
    {
      "cell_type": "code",
      "source": [
        "print(arr4.ndim)\n",
        "print(arr5.ndim)"
      ],
      "metadata": {
        "colab": {
          "base_uri": "https://localhost:8080/"
        },
        "id": "bkkXzvqzlJ2v",
        "outputId": "5b3a6fbd-4065-476a-d8b5-984db232bd04"
      },
      "execution_count": 18,
      "outputs": [
        {
          "output_type": "stream",
          "name": "stdout",
          "text": [
            "2\n",
            "3\n"
          ]
        }
      ]
    },
    {
      "cell_type": "code",
      "source": [
        "arr6 = np.array([-1], ndmin=5) # 5 dimensions\n",
        "print(arr6)"
      ],
      "metadata": {
        "colab": {
          "base_uri": "https://localhost:8080/"
        },
        "id": "pdO4LKOQlQXD",
        "outputId": "102377c1-9c2d-4f9a-c3ff-6558f9badf23"
      },
      "execution_count": 23,
      "outputs": [
        {
          "output_type": "stream",
          "name": "stdout",
          "text": [
            "[[[[[-1]]]]]\n"
          ]
        }
      ]
    },
    {
      "cell_type": "code",
      "source": [
        "# ACCESSING ELEMENTS\n",
        "print(arr[3])\n",
        "print(arr[3] + arr1[-1])"
      ],
      "metadata": {
        "colab": {
          "base_uri": "https://localhost:8080/"
        },
        "id": "o0Gbd_vlltcz",
        "outputId": "0e565130-d729-4de6-f35b-3452bfdcdd2a"
      },
      "execution_count": 25,
      "outputs": [
        {
          "output_type": "stream",
          "name": "stdout",
          "text": [
            "3\n",
            "6\n"
          ]
        }
      ]
    },
    {
      "cell_type": "code",
      "source": [
        "print(arr4[0, 0], arr4[len(arr4) - 1, len(arr4) - 1])"
      ],
      "metadata": {
        "colab": {
          "base_uri": "https://localhost:8080/"
        },
        "id": "KV7IvqPqmDMI",
        "outputId": "007ef059-232b-4d92-fc6d-edc4f95115ea"
      },
      "execution_count": 29,
      "outputs": [
        {
          "output_type": "stream",
          "name": "stdout",
          "text": [
            "1 9\n"
          ]
        }
      ]
    },
    {
      "cell_type": "code",
      "source": [
        "# SLICING ARRAYS\n",
        "\n",
        "# [start:end]\n",
        "# [start:end:step]"
      ],
      "metadata": {
        "id": "ck10K9R0mesr"
      },
      "execution_count": 30,
      "outputs": []
    },
    {
      "cell_type": "code",
      "source": [
        "print(arr3)\n",
        "print(arr3[2:-1])\n",
        "print(arr3[3:]) # after\n",
        "print(arr3[:3]) # before\n",
        "print(arr3[-3:-1]) # negative slicing\n",
        "print(arr3[1:6:2]) # step\n"
      ],
      "metadata": {
        "id": "6JnmOwkbmhBU"
      },
      "execution_count": null,
      "outputs": []
    },
    {
      "cell_type": "code",
      "source": [
        "# DATA TYPES\n",
        "\"\"\"\n",
        "i - (integer) b - (boolean) u - (unsigned integer) f - (float) \n",
        "c - complex float m - (timedelta) M - datetime O - object\n",
        "S - string U - unicode string V - fixed memory\n",
        "\"\"\"\n",
        " \n",
        "print(arr4.dtype)\n",
        "\n",
        "arr7 = np.array(['water', 'air', 'thunder'])\n",
        "print(arr7.dtype)\n",
        "\n",
        "# Creating with predefined types\n",
        "arr8 = np.array(['water', 'air', 'thunder'], dtype='S') # 4-byte integers\n",
        "print(arr8.dtype)\n"
      ],
      "metadata": {
        "colab": {
          "base_uri": "https://localhost:8080/"
        },
        "id": "dvWBD_i1neGB",
        "outputId": "bf1b61e8-c759-4158-c9be-52e6b9747b78"
      },
      "execution_count": 50,
      "outputs": [
        {
          "output_type": "stream",
          "name": "stdout",
          "text": [
            "int64\n",
            "<U7\n",
            "|S7\n"
          ]
        }
      ]
    },
    {
      "cell_type": "code",
      "source": [
        "arr9 = np.array([3.0, 5.6, 9.6, 4.1])\n",
        "# arr10 = arr9.astype('i')\n",
        "arr10 = arr9.astype(int)\n",
        "# arr10 = arr9.astype(bool)\n",
        "print(arr10)\n",
        "print(arr10.dtype)"
      ],
      "metadata": {
        "colab": {
          "base_uri": "https://localhost:8080/"
        },
        "id": "Ma1YEXjFpDmT",
        "outputId": "89ab2513-e3ca-469e-e8e9-67011cc8d39a"
      },
      "execution_count": 56,
      "outputs": [
        {
          "output_type": "stream",
          "name": "stdout",
          "text": [
            "[3 5 9 4]\n",
            "int64\n"
          ]
        }
      ]
    },
    {
      "cell_type": "code",
      "source": [
        "# Copy and View\n",
        "# Copy == new array, View == view of original array"
      ],
      "metadata": {
        "id": "JwY5DmRwpuCj"
      },
      "execution_count": 57,
      "outputs": []
    },
    {
      "cell_type": "code",
      "source": [
        "# COPY\n",
        "arr11 = np.array([1, 2, 3, 4, 5])\n",
        "arr12 = arr11.copy()\n",
        "arr11[0] = 66\n",
        "# print(arr11)\n",
        "# print(arr12)"
      ],
      "metadata": {
        "id": "u9i3Rpt9p463"
      },
      "execution_count": 65,
      "outputs": []
    },
    {
      "cell_type": "code",
      "source": [
        "# VIEW\n",
        "arr13 = arr12.view()\n",
        "arr11[0] = 77\n",
        "# print(arr11)\n",
        "# print(arr13)"
      ],
      "metadata": {
        "id": "0fqfXwZmqSlJ"
      },
      "execution_count": 62,
      "outputs": []
    },
    {
      "cell_type": "code",
      "source": [
        "x = arr.copy()\n",
        "y = arr.view()\n",
        "\n",
        "print(x.base)\n",
        "print(y.base)"
      ],
      "metadata": {
        "colab": {
          "base_uri": "https://localhost:8080/"
        },
        "id": "_67ARo2iqxpb",
        "outputId": "04494e26-3dca-4e9b-b889-243b445ca756"
      },
      "execution_count": 67,
      "outputs": [
        {
          "output_type": "stream",
          "name": "stdout",
          "text": [
            "None\n",
            "[6 4 7 3 5]\n"
          ]
        }
      ]
    },
    {
      "cell_type": "code",
      "source": [
        "# SHAPE OF AN ARRAY -> This is the number of elements in each direction\n",
        "arr14 = np.array([[1, 2, 3], [4, 5, 6]])\n",
        "arr15 = np.array([[[1, 2, 3], [4, 5, 6]], [[1, 2, 3], [4, 5, 6]]])\n",
        "arr16 = np.array([6, 5, 4, 3, 2], ndmin = 5)\n",
        "\n",
        "print(arr14.shape)\n",
        "print(arr15.shape)\n",
        "print(arr16.shape)"
      ],
      "metadata": {
        "colab": {
          "base_uri": "https://localhost:8080/"
        },
        "id": "IGe7SsFErOEa",
        "outputId": "d635fafd-76cd-44f3-a9a3-9cd8cf89aa8c"
      },
      "execution_count": 12,
      "outputs": [
        {
          "output_type": "stream",
          "name": "stdout",
          "text": [
            "(2, 3)\n",
            "(2, 2, 3)\n",
            "(1, 1, 1, 1, 5)\n"
          ]
        }
      ]
    },
    {
      "cell_type": "code",
      "source": [
        "# ARRAY RESHAPING -> changing the shape of an array\n",
        "arr17 = np.array([1, 2, 3, 4, 5, 6, 7, 8, 9, 10, 11, 12])\n",
        "print(arr17.reshape(6, 2))\n",
        "print(arr17.reshape(4, 3))\n",
        "# 1D to 2D\n",
        "print(arr17.reshape(2, 3, 2)) # 2 arrays, with 3 arrays, with two elements each"
      ],
      "metadata": {
        "colab": {
          "base_uri": "https://localhost:8080/"
        },
        "id": "7J0bARH3CIbV",
        "outputId": "15886592-81b3-45be-d0f9-ef0fbb82f05b"
      },
      "execution_count": 29,
      "outputs": [
        {
          "output_type": "stream",
          "name": "stdout",
          "text": [
            "[[ 1  2]\n",
            " [ 3  4]\n",
            " [ 5  6]\n",
            " [ 7  8]\n",
            " [ 9 10]\n",
            " [11 12]]\n",
            "[[ 1  2  3]\n",
            " [ 4  5  6]\n",
            " [ 7  8  9]\n",
            " [10 11 12]]\n",
            "[[[ 1  2]\n",
            "  [ 3  4]\n",
            "  [ 5  6]]\n",
            "\n",
            " [[ 7  8]\n",
            "  [ 9 10]\n",
            "  [11 12]]]\n"
          ]
        }
      ]
    },
    {
      "cell_type": "code",
      "source": [
        "print(arr17.reshape(4, 3).base) # a view"
      ],
      "metadata": {
        "colab": {
          "base_uri": "https://localhost:8080/"
        },
        "id": "WGosfb8eDGSr",
        "outputId": "5cef142d-0fa7-4015-aacb-39ce63ea2fbf"
      },
      "execution_count": 32,
      "outputs": [
        {
          "output_type": "stream",
          "name": "stdout",
          "text": [
            "[ 1  2  3  4  5  6  7  8  9 10 11 12]\n"
          ]
        }
      ]
    },
    {
      "cell_type": "code",
      "source": [
        "# unknown dimension\n",
        "arr18 = arr17.reshape(2, 2, -1) # can pass more than 1 dimension\n",
        "print(arr18)\n",
        "# Flattening\n",
        "arr18.reshape(-1)"
      ],
      "metadata": {
        "colab": {
          "base_uri": "https://localhost:8080/"
        },
        "id": "Kf9cxHA5IIt9",
        "outputId": "73872b1b-9a17-4bff-b1b5-ebf37c6b3947"
      },
      "execution_count": 54,
      "outputs": [
        {
          "output_type": "stream",
          "name": "stdout",
          "text": [
            "[[[ 1  2  3]\n",
            "  [ 4  5  6]]\n",
            "\n",
            " [[ 7  8  9]\n",
            "  [10 11 12]]]\n"
          ]
        },
        {
          "output_type": "execute_result",
          "data": {
            "text/plain": [
              "array([ 1,  2,  3,  4,  5,  6,  7,  8,  9, 10, 11, 12])"
            ]
          },
          "metadata": {},
          "execution_count": 54
        }
      ]
    },
    {
      "cell_type": "code",
      "source": [
        "# Joining two arrays\n",
        "arr19 = np.concatenate((arr3.reshape(-1), arr16.reshape(-1)))\n",
        "print(arr19)\n",
        "\n",
        "arr19a = np.array([[1, 2], [3, 4]])\n",
        "arr19b = np.array([[5, 6], [7, 8]])\n",
        "\n",
        "print(np.concatenate((arr19a, arr19b), axis = 1))\n",
        "\n",
        "np.stack((arr19a, arr19b), axis = 1)\n",
        "\n",
        "print(\"stack rows\")\n",
        "print(np.hstack((arr19a, arr19b)))\n",
        "\n",
        "print(\"stack columns\")\n",
        "print(np.vstack((arr19a, arr19b)))\n",
        "\n",
        "print(\"stack depth\")\n",
        "print(np.dstack((arr19a, arr19b)))"
      ],
      "metadata": {
        "colab": {
          "base_uri": "https://localhost:8080/"
        },
        "id": "yc_BC6CyImgM",
        "outputId": "03d484d3-58f0-4a1f-b8c9-5d13c85b9546"
      },
      "execution_count": 109,
      "outputs": [
        {
          "output_type": "stream",
          "name": "stdout",
          "text": [
            "[6 8 9 3 1 7 6 5 4 3 2]\n",
            "[[1 2 5 6]\n",
            " [3 4 7 8]]\n",
            "stack rows\n",
            "[[1 2 5 6]\n",
            " [3 4 7 8]]\n",
            "stack columns\n",
            "[[1 2]\n",
            " [3 4]\n",
            " [5 6]\n",
            " [7 8]]\n",
            "stack depth\n",
            "[[[1 5]\n",
            "  [2 6]]\n",
            "\n",
            " [[3 7]\n",
            "  [4 8]]]\n"
          ]
        }
      ]
    },
    {
      "cell_type": "code",
      "source": [
        "# Splitting numpy arrays\n",
        "print(arr19)\n",
        "print(np.array_split(arr19, 3))\n",
        "arr19c = np.array_split(arr19, 3)\n",
        "print(arr19c[0])\n",
        "print(arr19c[1])\n",
        "\n",
        "# split along rows\n",
        "print(np.array_split(arr18, 2, axis = 1))\n",
        "\n",
        "# hsplit() -> split along rows\n",
        "# hstack() -> split along columns\n",
        "# vstack()\n",
        "# dstack()\n",
        "# vsplit()\n",
        "# dsplit()"
      ],
      "metadata": {
        "colab": {
          "base_uri": "https://localhost:8080/"
        },
        "id": "2P7qaR0ePvYO",
        "outputId": "3cb12dac-0053-454f-d18e-8f0af1d98f58"
      },
      "execution_count": 126,
      "outputs": [
        {
          "output_type": "stream",
          "name": "stdout",
          "text": [
            "[6 8 9 3 1 7 6 5 4 3 2]\n",
            "[array([6, 8, 9, 3]), array([1, 7, 6, 5]), array([4, 3, 2])]\n",
            "[6 8 9 3]\n",
            "[1 7 6 5]\n",
            "[array([[[1, 2, 3]],\n",
            "\n",
            "       [[7, 8, 9]]]), array([[[ 4,  5,  6]],\n",
            "\n",
            "       [[10, 11, 12]]])]\n"
          ]
        }
      ]
    },
    {
      "cell_type": "code",
      "source": [
        "# Finding elements -> Searching arrays\n",
        "np.where(arr19 == 3)\n",
        "print(arr19)\n",
        "print(np.where(arr19 % 2 == 0)) # indexes of even values\n",
        "\n",
        "# SearchSorted - binary search array, return index where value is inserted to maintaine order\n",
        "print(arr19)\n",
        "\n",
        "x = np.sort(arr19)\n",
        "y = np.searchsorted(x, 7)\n",
        "print(y)\n",
        "\n",
        "z = np.searchsorted(x, 7, side='right')\n",
        "a = np.searchsorted(x, 7, side='left')\n",
        "print(z)\n",
        "print(a)\n",
        "\n",
        "b = np.searchsorted(x, [4, 8, 11])\n",
        "print(b)\n"
      ],
      "metadata": {
        "colab": {
          "base_uri": "https://localhost:8080/"
        },
        "id": "AUyewO3sLXpq",
        "outputId": "ebbd754f-deaf-4fc1-d355-0348383668b7"
      },
      "execution_count": 152,
      "outputs": [
        {
          "output_type": "stream",
          "name": "stdout",
          "text": [
            "[6 8 9 3 1 7 6 5 4 3 2]\n",
            "(array([ 0,  1,  6,  8, 10]),)\n",
            "[6 8 9 3 1 7 6 5 4 3 2]\n",
            "8\n",
            "9\n",
            "8\n",
            "[ 4  9 11]\n"
          ]
        }
      ]
    },
    {
      "cell_type": "code",
      "source": [
        "# Sort array\n",
        "np.sort(arr19)\n",
        "\n",
        "arr21 = np.array(['cook', 'peter', 'zed', 'academy'])\n",
        "print(np.sort(arr21))\n",
        "\n"
      ],
      "metadata": {
        "colab": {
          "base_uri": "https://localhost:8080/"
        },
        "id": "9Fng4mavMA4e",
        "outputId": "3b8885ec-1b4a-43ff-81b3-5bd8100f61f6"
      },
      "execution_count": 153,
      "outputs": [
        {
          "output_type": "stream",
          "name": "stdout",
          "text": [
            "['academy' 'cook' 'peter' 'zed']\n"
          ]
        }
      ]
    },
    {
      "cell_type": "code",
      "source": [
        "# Filtering arrays\n",
        "fil21 = [True, False, True, False]\n",
        "\n",
        "print(arr21[fil21])\n",
        "\n",
        "# Create filter array\n",
        "fil22 = []\n",
        "\n",
        "for e in arr21:\n",
        "  if(len(e) > 4):\n",
        "    fil22.append(True)\n",
        "  else:\n",
        "    fil22.append(False)\n",
        "\n",
        "print(arr21[fil22])\n",
        "\n",
        "print(arr19)\n",
        "fil23 = arr19 > 6\n",
        "print(fil23)\n",
        "print(arr19[fil23])"
      ],
      "metadata": {
        "colab": {
          "base_uri": "https://localhost:8080/"
        },
        "id": "VeMZNHOeUmCm",
        "outputId": "028aeee5-bde7-445d-dae3-678e6c855ace"
      },
      "execution_count": 159,
      "outputs": [
        {
          "output_type": "stream",
          "name": "stdout",
          "text": [
            "['cook' 'zed']\n",
            "['peter' 'academy']\n",
            "[6 8 9 3 1 7 6 5 4 3 2]\n",
            "[False  True  True False False  True False False False False False]\n",
            "[8 9 7]\n"
          ]
        }
      ]
    },
    {
      "cell_type": "code",
      "source": [
        "# Iterating Arrays\n",
        "# for x in arr19:\n",
        "  # print(x)\n",
        "\n",
        "# print(arr18)\n",
        "# for x in arr18:\n",
        "#   print(f\"This: {x}\")\n",
        "\n",
        "# Iterate on each 2-D array\n",
        "for x in arr18:\n",
        "  for y in x:\n",
        "    print(y)\n",
        "\n",
        "# Single element 3D\n",
        "for x in arr18:\n",
        "  for y in x:\n",
        "    for z in y:\n",
        "      print(z)"
      ],
      "metadata": {
        "colab": {
          "base_uri": "https://localhost:8080/"
        },
        "id": "tYfCCmVrMMvz",
        "outputId": "df00d206-384b-409f-b5ce-455d21363331"
      },
      "execution_count": 83,
      "outputs": [
        {
          "output_type": "stream",
          "name": "stdout",
          "text": [
            "[1 2 3]\n",
            "[4 5 6]\n",
            "[7 8 9]\n",
            "[10 11 12]\n"
          ]
        }
      ]
    },
    {
      "cell_type": "code",
      "source": [
        "arr20 = np.array([[[1, 2], [7, 9]], [[5, 6], [3, 8]]])\n",
        "\n",
        "# nditer -> helper function for iteration\n",
        "for x in np.nditer(arr20):\n",
        "  print(x)"
      ],
      "metadata": {
        "colab": {
          "base_uri": "https://localhost:8080/"
        },
        "id": "KYVYLmx0M95O",
        "outputId": "76ff3d03-8ad0-43f1-e986-cf3e0329410c"
      },
      "execution_count": 90,
      "outputs": [
        {
          "output_type": "stream",
          "name": "stdout",
          "text": [
            "1\n",
            "2\n",
            "7\n",
            "9\n",
            "5\n",
            "6\n",
            "3\n",
            "8\n"
          ]
        }
      ]
    },
    {
      "cell_type": "code",
      "source": [
        "# different data types iteration\n",
        "# arr20\n",
        "\n",
        "# for x in np.nditer(arr20, flags=['buffered'], op_dtypes=['S']):\n",
        "#   print(x)\n",
        "\n",
        "# Step sizes\n",
        "# for x in np.nditer(arr20[:, ::2]):\n",
        "#   print(x)\n",
        "\n",
        "# Enumerated iteration\n",
        "for x, y in np.ndenumerate(arr):\n",
        "  print(x, y)"
      ],
      "metadata": {
        "colab": {
          "base_uri": "https://localhost:8080/"
        },
        "id": "ZyrTDqSRNMkO",
        "outputId": "3a5e26a8-7796-4088-8616-a1de36c365fc"
      },
      "execution_count": 97,
      "outputs": [
        {
          "output_type": "stream",
          "name": "stdout",
          "text": [
            "(0,) 1\n",
            "(1,) 2\n",
            "(2,) 3\n",
            "(3,) 4\n",
            "(4,) 5\n"
          ]
        }
      ]
    }
  ]
}