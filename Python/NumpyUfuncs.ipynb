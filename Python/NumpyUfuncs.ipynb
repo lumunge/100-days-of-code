{
  "nbformat": 4,
  "nbformat_minor": 0,
  "metadata": {
    "colab": {
      "name": "NumpyUfuncs.ipynb",
      "provenance": [],
      "collapsed_sections": [],
      "authorship_tag": "ABX9TyPzrrPkhOVsQk6c2ioJKaKs",
      "include_colab_link": true
    },
    "kernelspec": {
      "name": "python3",
      "display_name": "Python 3"
    },
    "language_info": {
      "name": "python"
    }
  },
  "cells": [
    {
      "cell_type": "markdown",
      "metadata": {
        "id": "view-in-github",
        "colab_type": "text"
      },
      "source": [
        "<a href=\"https://colab.research.google.com/github/lumunge/100-days-of-code/blob/master/Python/NumpyUfuncs.ipynb\" target=\"_parent\"><img src=\"https://colab.research.google.com/assets/colab-badge.svg\" alt=\"Open In Colab\"/></a>"
      ]
    },
    {
      "cell_type": "code",
      "execution_count": null,
      "metadata": {
        "id": "DAN0h5w0T0qz"
      },
      "outputs": [],
      "source": [
        "\"\"\"Numpy Ufuncs - functions for operating on ndarray(numpy array)\n",
        "Ufuncs implement vectorrization to ndarray\n",
        "Vectorization involves replacing loops with array expressions\n",
        "Vectorized operations in numpy assign internal looping to optimized C code,\n",
        "this is cleaner and faster\"\"\""
      ]
    },
    {
      "cell_type": "code",
      "source": [
        "import numpy as np\n",
        "from math import log"
      ],
      "metadata": {
        "id": "OAwsXW13VWeZ"
      },
      "execution_count": 38,
      "outputs": []
    },
    {
      "cell_type": "code",
      "source": [
        "\"\"\"ufunc argumets:\n",
        "  where - define place for operations\n",
        "  dtype - define return type\n",
        "  out - output array\"\"\""
      ],
      "metadata": {
        "id": "uXnZGX-YWgmR"
      },
      "execution_count": null,
      "outputs": []
    },
    {
      "cell_type": "code",
      "source": [
        "# Arithmetic\n",
        "\n",
        "a = np.random.randint(10, size=10)\n",
        "b = np.random.randint(10, size=10)\n",
        "print(a)\n",
        "print(b)\n",
        "\n",
        "print(np.add(a, b)) # add two ndarray\n",
        "\n",
        "print(np.subtract(a, b)) # subtract two ndarray\n",
        "\n",
        "print(np.multiply(a, b)) # multiply two ndarray\n",
        "\n",
        "print(np.divide(a, b)) # divide\n",
        "\n",
        "print(np.power(a, b)) # b power a\n",
        "\n",
        "print(np.mod(a, b)) # a mod b\n",
        "\n",
        "print(np.divmod(a, b)) # quotient, mod\n",
        "\n",
        "print(np.absolute(a)) # absolute values\n"
      ],
      "metadata": {
        "colab": {
          "base_uri": "https://localhost:8080/"
        },
        "id": "aFVxRn6yVSo_",
        "outputId": "3dca00ac-fb61-4958-ab43-873836581af8"
      },
      "execution_count": 43,
      "outputs": [
        {
          "output_type": "stream",
          "name": "stdout",
          "text": [
            "[4 1 1 1 8 6 2 2 0 1]\n",
            "[0 0 7 0 7 3 9 6 2 3]\n",
            "[ 4  1  8  1 15  9 11  8  2  4]\n",
            "63\n",
            "[ 4  1 -6  1  1  3 -7 -4 -2 -2]\n",
            "[ 0  0  7  0 56 18 18 12  0  3]\n",
            "[       inf        inf 0.14285714        inf 1.14285714 2.\n",
            " 0.22222222 0.33333333 0.         0.33333333]\n",
            "[      1       1       1       1 2097152     216     512      64       0\n",
            "       1]\n",
            "[0 0 1 0 1 0 2 2 0 1]\n",
            "(array([0, 0, 0, 0, 1, 2, 0, 0, 0, 0]), array([0, 0, 1, 0, 1, 0, 2, 2, 0, 1]))\n",
            "[4 1 1 1 8 6 2 2 0 1]\n"
          ]
        },
        {
          "output_type": "stream",
          "name": "stderr",
          "text": [
            "/usr/local/lib/python3.7/dist-packages/ipykernel_launcher.py:15: RuntimeWarning: divide by zero encountered in true_divide\n",
            "  from ipykernel import kernelapp as app\n",
            "/usr/local/lib/python3.7/dist-packages/ipykernel_launcher.py:19: RuntimeWarning: divide by zero encountered in remainder\n",
            "/usr/local/lib/python3.7/dist-packages/ipykernel_launcher.py:21: RuntimeWarning: divide by zero encountered in divmod\n"
          ]
        }
      ]
    },
    {
      "cell_type": "code",
      "source": [
        "# Custom ufuncs - frompyfunc()\n",
        "\"\"\"frompyfunc() arguments\n",
        "  function - function name\n",
        "  input - number of input arrays\n",
        "  output - number of output arrays\"\"\"\n",
        "\n",
        "def prod(a, b):\n",
        "  return a * b\n",
        "\n",
        "prod = np.frompyfunc(prod, 2, 1)\n",
        "\n",
        "print(prod(a, b))\n",
        "\n",
        "# print(type(np.prod)) -> check if prod is a ufunc"
      ],
      "metadata": {
        "colab": {
          "base_uri": "https://localhost:8080/"
        },
        "id": "7SDPyOM-WaNv",
        "outputId": "ba589c09-0fe8-4b96-cb4e-ec4eb7462372"
      },
      "execution_count": 11,
      "outputs": [
        {
          "output_type": "stream",
          "name": "stdout",
          "text": [
            "[49 28 8 15 24 0 6 12 27 35]\n"
          ]
        }
      ]
    },
    {
      "cell_type": "code",
      "source": [
        "# Rounding decimals\n",
        "z = np.random.uniform(low=1.0, high=9.0, size=4)\n",
        "print(z)\n",
        "\n",
        "# truncation\n",
        "print(np.trunc(z))\n",
        "\n",
        "# fix\n",
        "print(np.fix(z))\n",
        "\n",
        "# rounding\n",
        "print(np.around(z))\n",
        "\n",
        "# floor\n",
        "print(np.floor(z))\n",
        "\n",
        "# ceil\n",
        "print(np.ceil(z))"
      ],
      "metadata": {
        "colab": {
          "base_uri": "https://localhost:8080/"
        },
        "id": "A0NsOSNfXiM8",
        "outputId": "db2e1c4f-5833-4790-8b5d-47fbdfcc0666"
      },
      "execution_count": 30,
      "outputs": [
        {
          "output_type": "stream",
          "name": "stdout",
          "text": [
            "[7.44792174 4.24768777 8.50079729 7.33699658]\n",
            "[7. 4. 8. 7.]\n",
            "[7. 4. 8. 7.]\n",
            "[7. 4. 9. 7.]\n",
            "[7. 4. 8. 7.]\n",
            "[8. 5. 9. 8.]\n"
          ]
        }
      ]
    },
    {
      "cell_type": "code",
      "source": [
        "# Logs\n",
        "a = np.arange(1, 10)\n",
        "\n",
        "print(np.log2(a)) # log 2\n",
        "\n",
        "print(np.log10(a)) # log 10\n",
        "\n",
        "print(np.log(a)) # log base e\n",
        "\n",
        "# other bases\n",
        "log_func = np.frompyfunc(log, 2, 1)\n",
        "\n",
        "print(log_func(100, 15))"
      ],
      "metadata": {
        "colab": {
          "base_uri": "https://localhost:8080/"
        },
        "id": "LRMkdvCnZx3l",
        "outputId": "08c87b2f-d537-446f-dacf-993b80df3fa6"
      },
      "execution_count": 41,
      "outputs": [
        {
          "output_type": "stream",
          "name": "stdout",
          "text": [
            "[0.         1.         1.5849625  2.         2.32192809 2.5849625\n",
            " 2.80735492 3.         3.169925  ]\n",
            "[0.         0.30103    0.47712125 0.60205999 0.69897    0.77815125\n",
            " 0.84509804 0.90308999 0.95424251]\n",
            "[0.         0.69314718 1.09861229 1.38629436 1.60943791 1.79175947\n",
            " 1.94591015 2.07944154 2.19722458]\n",
            "1.7005483074552052\n"
          ]
        }
      ]
    },
    {
      "cell_type": "code",
      "source": [
        "# Summations - happens for n elements, addition is btwn two args\n",
        "print(a)\n",
        "print(b)\n",
        "print(np.sum([a, b])) # sum numbers from all arrays\n",
        "print(np.sum([a, b], axis = 1)) # sum numbers from each array\n",
        "print(np.cumsum(a)) # cumulative sum"
      ],
      "metadata": {
        "colab": {
          "base_uri": "https://localhost:8080/"
        },
        "id": "gHKqeIStarGc",
        "outputId": "ca0a541f-7720-4e13-97ac-644132172f06"
      },
      "execution_count": 47,
      "outputs": [
        {
          "output_type": "stream",
          "name": "stdout",
          "text": [
            "[4 1 1 1 8 6 2 2 0 1]\n",
            "[0 0 7 0 7 3 9 6 2 3]\n",
            "63\n",
            "[26 37]\n",
            "[ 4  5  6  7 15 21 23 25 25 26]\n"
          ]
        }
      ]
    },
    {
      "cell_type": "code",
      "source": [
        "# Products\n",
        "print(a)\n",
        "print(np.prod(a)) # product of elements in array a\n",
        "print(np.prod([a, b])) # product of elements in a, b\n",
        "print(np.prod([a, b], axis = 1)) # product of each - axis = 1\n",
        "print(np.cumprod([a, b], axis = 1)) # cumulative product\n"
      ],
      "metadata": {
        "colab": {
          "base_uri": "https://localhost:8080/"
        },
        "id": "zQmZSATXbm-q",
        "outputId": "74f1669b-7199-4cc6-c406-3d6986282493"
      },
      "execution_count": 53,
      "outputs": [
        {
          "output_type": "stream",
          "name": "stdout",
          "text": [
            "[4 1 1 1 8 6 2 2 0 1]\n",
            "0\n",
            "0\n",
            "[0 0]\n",
            "[[  4   4   4   4  32 192 384 768   0   0]\n",
            " [  0   0   0   0   0   0   0   0   0   0]]\n"
          ]
        }
      ]
    },
    {
      "cell_type": "code",
      "source": [
        "# Differences\n",
        "print(a)\n",
        "print(np.diff(a)) # discrete difference - subtracting successive elements\n",
        "print(np.diff(a, n=3)) # done thrice"
      ],
      "metadata": {
        "colab": {
          "base_uri": "https://localhost:8080/"
        },
        "id": "8o4kbw7ccKcr",
        "outputId": "6a22b348-ab3d-4cf4-f974-5eaef2b4c9d1"
      },
      "execution_count": 58,
      "outputs": [
        {
          "output_type": "stream",
          "name": "stdout",
          "text": [
            "[4 1 1 1 8 6 2 2 0 1]\n",
            "[-3  0  0  7 -2 -4  0 -2  1]\n",
            "[ -3   7 -16   7   6  -6   5]\n"
          ]
        }
      ]
    },
    {
      "cell_type": "code",
      "source": [
        "# LCM\n",
        "\n",
        "print(np.lcm(3, 4))\n",
        "print(np.lcm.reduce(a)) # lcm of an array\n",
        "print(np.lcm.reduce(np.arange(1, 10))) # lcm for elements btwn 1 - 10"
      ],
      "metadata": {
        "colab": {
          "base_uri": "https://localhost:8080/"
        },
        "id": "PEGIlaRRcmXJ",
        "outputId": "9060cf1d-2e64-47c8-bfbe-4e15a8cc8a79"
      },
      "execution_count": 63,
      "outputs": [
        {
          "output_type": "stream",
          "name": "stdout",
          "text": [
            "12\n",
            "0\n",
            "2520\n"
          ]
        }
      ]
    },
    {
      "cell_type": "code",
      "source": [
        "# GCD\n",
        "\n",
        "print(np.gcd(3, 4))\n",
        "print(np.gcd.reduce(a)) # lcm of an array\n",
        "print(np.gcd.reduce(np.arange(1, 10))) # lcm for elements btwn 1 - 10"
      ],
      "metadata": {
        "colab": {
          "base_uri": "https://localhost:8080/"
        },
        "id": "0jnk-YYGdDGC",
        "outputId": "58b80895-2910-42fb-935c-6119ebb1243f"
      },
      "execution_count": 64,
      "outputs": [
        {
          "output_type": "stream",
          "name": "stdout",
          "text": [
            "1\n",
            "1\n",
            "1\n"
          ]
        }
      ]
    },
    {
      "cell_type": "code",
      "source": [
        "# Trig, sin(), cos(), tan()\n",
        "\n",
        "pie = np.pi\n",
        "print(pie)\n",
        "\n",
        "print(np.sin(pie))\n",
        "\n",
        "print(np.tan(90))\n",
        "\n",
        "print(np.cos(a))\n",
        "\n",
        "print(np.deg2rad(a)) # degrees to radians\n",
        "print(np.rad2deg(a)) # radians to degrees\n",
        "\n",
        "# arcs\n",
        "print(np.arcsin(0.6))\n",
        "print(np.arccos(0.6))\n",
        "print(np.arctan(0.6))\n",
        "# print(np.arcsin(z)) # arcs in np array\n",
        "\n",
        "print(np.hypot(3, 4)) # hypotenues\n",
        "\n"
      ],
      "metadata": {
        "colab": {
          "base_uri": "https://localhost:8080/"
        },
        "id": "cW3BD7UedLI-",
        "outputId": "83160f02-128b-46ee-e37a-1d9c6f160e87"
      },
      "execution_count": 85,
      "outputs": [
        {
          "output_type": "stream",
          "name": "stdout",
          "text": [
            "3.141592653589793\n",
            "1.2246467991473532e-16\n",
            "-1.995200412208242\n",
            "[-0.65364362  0.54030231  0.54030231  0.54030231 -0.14550003  0.96017029\n",
            " -0.41614684 -0.41614684  1.          0.54030231]\n",
            "[0.06981317 0.01745329 0.01745329 0.01745329 0.13962634 0.10471976\n",
            " 0.03490659 0.03490659 0.         0.01745329]\n",
            "[229.18311805  57.29577951  57.29577951  57.29577951 458.3662361\n",
            " 343.77467708 114.59155903 114.59155903   0.          57.29577951]\n",
            "0.6435011087932844\n",
            "0.9272952180016123\n",
            "0.5404195002705842\n",
            "5.0\n"
          ]
        }
      ]
    },
    {
      "cell_type": "code",
      "source": [
        "# Hyperbolic functions - take radians produce sinh, cosh, tanh\n",
        "\n",
        "print(np.sinh(a))\n",
        "print(np.sinh(90))\n",
        "print(np.cosh(a))\n",
        "print(np.tanh(np.pi))\n",
        "\n",
        "# angles\n",
        "print(np.arcsinh(90))\n",
        "print(np.arccosh(z))"
      ],
      "metadata": {
        "colab": {
          "base_uri": "https://localhost:8080/"
        },
        "id": "T-4R6eHkecZV",
        "outputId": "569e5195-68ed-40dc-c095-73f39d7a70e7"
      },
      "execution_count": 96,
      "outputs": [
        {
          "output_type": "stream",
          "name": "stdout",
          "text": [
            "[2.72899172e+01 1.17520119e+00 1.17520119e+00 1.17520119e+00\n",
            " 1.49047883e+03 2.01713157e+02 3.62686041e+00 3.62686041e+00\n",
            " 0.00000000e+00 1.17520119e+00]\n",
            "6.102016471589204e+38\n",
            "[2.73082328e+01 1.54308063e+00 1.54308063e+00 1.54308063e+00\n",
            " 1.49047916e+03 2.01715636e+02 3.76219569e+00 3.76219569e+00\n",
            " 1.00000000e+00 1.54308063e+00]\n",
            "0.99627207622075\n",
            "5.192987713658941\n",
            "[2.69654462 2.12536888 2.82982949 2.68139994]\n"
          ]
        }
      ]
    },
    {
      "cell_type": "code",
      "source": [
        "# Set operations - set is a collection of unique elements\n",
        "\n",
        "print(f\"A: {a}\")\n",
        "print(f\"B: {b}\")\n",
        "set_a = np.unique(a) # creating a set\n",
        "\n",
        "print(f\"Set: {set_a}\")\n",
        "\n",
        "un_ab = np.union1d(a, b) # union of a, b\n",
        "print(f\"Union: {un_ab}\")\n",
        "\n",
        "int_ab = np.intersect1d(a, b, assume_unique=True) # intersection\n",
        "print(f\"Intersection: {int_ab}\")\n",
        "\n",
        "dif_ab = np.setdiff1d(a, b, assume_unique=True) # set difference\n",
        "print(f\"Set Difference: {dif_ab}\")\n",
        "\n",
        "sym_diff = np.setxor1d(a, b, assume_unique=True) # symmetric difference\n",
        "print(sym_diff)"
      ],
      "metadata": {
        "colab": {
          "base_uri": "https://localhost:8080/"
        },
        "id": "K5pov3FbeSGW",
        "outputId": "2c290efb-b22f-428b-e6ae-3b21af577ab8"
      },
      "execution_count": 109,
      "outputs": [
        {
          "output_type": "stream",
          "name": "stdout",
          "text": [
            "A: [4 1 1 1 8 6 2 2 0 1]\n",
            "B: [0 0 7 0 7 3 9 6 2 3]\n",
            "Set: [0 1 2 4 6 8]\n",
            "Union: [0 1 2 3 4 6 7 8 9]\n",
            "Intersection: [0 0 0 1 1 1 2 2 3 6 7]\n",
            "Set Difference: [4 1 1 1 8 1]\n",
            "[4 8 9]\n"
          ]
        }
      ]
    }
  ]
}