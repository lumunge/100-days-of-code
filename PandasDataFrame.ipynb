{
  "nbformat": 4,
  "nbformat_minor": 0,
  "metadata": {
    "colab": {
      "name": "PandasDataFrame.ipynb",
      "provenance": [],
      "collapsed_sections": [],
      "authorship_tag": "ABX9TyPzFU8FeDTg6ukT1RklZFY4",
      "include_colab_link": true
    },
    "kernelspec": {
      "name": "python3",
      "display_name": "Python 3"
    },
    "language_info": {
      "name": "python"
    }
  },
  "cells": [
    {
      "cell_type": "markdown",
      "metadata": {
        "id": "view-in-github",
        "colab_type": "text"
      },
      "source": [
        "<a href=\"https://colab.research.google.com/github/lumunge/100-days-of-code/blob/master/PandasDataFrame.ipynb\" target=\"_parent\"><img src=\"https://colab.research.google.com/assets/colab-badge.svg\" alt=\"Open In Colab\"/></a>"
      ]
    },
    {
      "cell_type": "code",
      "execution_count": null,
      "metadata": {
        "id": "-hJUv9YwMqSL"
      },
      "outputs": [],
      "source": [
        "\"\"\"\n",
        "A pandas data frame -> structure with 2-D data and its corresponding labels.\n",
        "Similar to SQL or Excel spreadsheets except faster, easier to use and more powerful\n",
        "\"\"\""
      ]
    },
    {
      "cell_type": "code",
      "source": [
        "import pandas as pd # alias\n",
        "import numpy as np\n",
        "import matplotlib.pyplot as plt"
      ],
      "metadata": {
        "id": "SxsURQLom-_n"
      },
      "execution_count": 181,
      "outputs": []
    },
    {
      "cell_type": "code",
      "source": [
        "\"\"\"\n",
        "Pandas and creating them\n",
        "# dataframe constructors are used to provide data, labels etc\n",
        "# they can take lists, tuples, np array, dict\n",
        "\"\"\"\n",
        "\n",
        "# data - randomly generated numpy dict\n",
        "inputs = {\n",
        "    'high': np.random.random(10),\n",
        "    'open': np.random.random(10),\n",
        "    'close': np.random.random(10),\n",
        "    'low': np.random.random(10),\n",
        "    'volume': np.random.random(10)\n",
        "} # dict\n",
        "\n",
        "# print(inputs)\n",
        "\n",
        "# creating data frame\n",
        "row_labels = ['High', 'Open', 'Close', 'Low', 'Volume'] # first row\n",
        "\n",
        "# rows 1 - inf\n",
        "# columns: high, open, close, low, volume\n",
        "# data: highs, opens, colses, lows, volumes\n",
        "\n",
        "df = pd.DataFrame(data=inputs)\n",
        "\n",
        "print(df)"
      ],
      "metadata": {
        "id": "ed2ayHX1NG_Q"
      },
      "execution_count": null,
      "outputs": []
    },
    {
      "cell_type": "code",
      "source": [
        "# print first n items\n",
        "df.head(n=4)\n",
        "\n",
        "# print last n items\n",
        "df.tail(n=3)\n",
        "\n",
        "# print specific column\n",
        "closes = df['close']\n",
        "# print(closes)\n",
        "# print(df.close)\n",
        "\n",
        "# using index\n",
        "# print(closes[4])\n",
        "\n",
        "# accessing whole row\n",
        "df.loc[4] # print data in row 4"
      ],
      "metadata": {
        "id": "Cn2Ke747_qLS"
      },
      "execution_count": null,
      "outputs": []
    },
    {
      "cell_type": "code",
      "source": [
        "\"\"\"Other methods\"\"\"\n",
        "# print labels and sequences\n",
        "df.index\n",
        "\n",
        "df.columns\n",
        "\n",
        "# convert df to numpy array\n",
        "df.to_numpy()\n",
        "\n",
        "# data types\n",
        "df.dtypes\n",
        "\n",
        "df.ndim # print size\n",
        "\n",
        "df.shape # print shape\n",
        "\n",
        "df.size # print size\n",
        "\n",
        "df.memory_usage() # print mem usage in bytes"
      ],
      "metadata": {
        "id": "Lo-Y-bxv_arn"
      },
      "execution_count": null,
      "outputs": []
    },
    {
      "cell_type": "code",
      "source": [
        "\"\"\"\n",
        "Access, Modification, Add, Delete, Sort Filter data\n",
        "\n",
        "Access using label as a key\n",
        "\"\"\"\n",
        "df.loc[4] # .loc -> get rows/columns using labels\n",
        "\n",
        "df.iloc[4] # .iloc -> get row/column using its index\n",
        "\n",
        "# .at[] -> takes rows/column labels -> return single value\n",
        "# .iat[] -> takes zero-based indices of rows/columns-> returns single value\n",
        "\n",
        "# # slicing\n",
        "df.loc[: 4] # data until 4th row\n",
        "\n",
        "df.loc[4 :] # data after 4\n",
        "\n",
        "df.loc[:, 'close'] # print close column\n",
        "\n",
        "df.loc[3:7, ['open', 'close']] # data between 3rd and 7th row, open and close columns\n",
        "\n",
        "df.at[4, 'close'] # slicing using at\n",
        "\n",
        "\n",
        "\"\"\"\n",
        "Insert and delete\n",
        "\"\"\"\n",
        "\n",
        "# create new object\n",
        "ten = pd.Series(data=[0.1, 0.2, 0.3, 0.4, 0.5, 0.6], index=df.columns, name=10)\n",
        "\n",
        "# append to data frame\n",
        "df.append(ten)\n",
        "\n",
        "# delete row\n",
        "# df = df.drop(labels=[9]) # deletes 9th row\n",
        "# prit(df)\n",
        "\n",
        "# inserting new column\n",
        "df['random'] = np.array([1, 2, 3, 4, 4, 5, 6, 7, 8])\n",
        "# print(df)\n",
        "\n",
        "# new column with uniform value\n",
        "# df['random1'] = 0.0\n",
        "\n",
        "# creating new column in specific place\n",
        "# colData = np.array([...])\n",
        "# df.insert(loc=3, column='random', value=colData)\n",
        "\n",
        "# delete a column\n",
        "del df['random']\n",
        "# print(df)\n",
        "\n",
        "\"\"\"Arithmetic\"\"\"\n",
        "df['open'] - df['close'] # difference between open and close\n",
        "\n",
        "df['open'] * 100 # multiply open column value by 100\n",
        "\n",
        "# calculate into a new column\n",
        "df['%'] = df['open'] - df['close'] * 100\n",
        "# print(df)\n",
        "\n",
        "\"\"\" Numpy and SciPy Functions\"\"\"\n",
        "nums = df.loc[2:5]\n",
        "# print(nums)\n",
        "\n",
        "np.average(nums, axis=1) # average per row into new numpy array"
      ],
      "metadata": {
        "id": "aFQuFnwfNHEV"
      },
      "execution_count": null,
      "outputs": []
    },
    {
      "cell_type": "code",
      "source": [
        "\"\"\"Sorting\"\"\"\n",
        "df.sort_values(by=\"close\", ascending=False) # sort by the close column vaue - descending order\n",
        "\n",
        "# sorting by multiple columns\n",
        "df.sort_values(by=['open', 'close'], ascending=[False, False]) # sort by open, if values are sam, sort by close"
      ],
      "metadata": {
        "id": "qJXymdQZ2qPQ"
      },
      "execution_count": null,
      "outputs": []
    },
    {
      "cell_type": "code",
      "source": [
        "\"\"\"Filtering\"\"\"\n",
        "# get closes > 50%\n",
        "closes = df['close'] * 100 > 50\n",
        "# print(closes)\n",
        "\n",
        "# get closes between 50 and 80%\n",
        "closes1 = df[(df['close'] * 100 > 50) & (df['close'] < 80)]\n",
        "# print(closes1)\n",
        "\n",
        "# other numpy logical routines\n",
        "df['close'].where(cond=df['close'] <= 0.81, other=0.8)\n"
      ],
      "metadata": {
        "id": "hKDZzOgR207F"
      },
      "execution_count": null,
      "outputs": []
    },
    {
      "cell_type": "code",
      "source": [
        "\"\"\"Data statistics\"\"\"\n",
        "df.describe() # print basic numerical column statistics\n",
        "\n",
        "df.mean() # mean for each column\n",
        "\n",
        "df['close'].mean() # mean of 'close' column\n",
        "\n",
        "df['volume'].max()"
      ],
      "metadata": {
        "colab": {
          "base_uri": "https://localhost:8080/"
        },
        "id": "K1RMzM144bYJ",
        "outputId": "dd04e3d0-4634-4f83-e946-b17be4f76057"
      },
      "execution_count": 133,
      "outputs": [
        {
          "output_type": "execute_result",
          "data": {
            "text/plain": [
              "0.8532441440822888"
            ]
          },
          "metadata": {},
          "execution_count": 133
        }
      ]
    },
    {
      "cell_type": "code",
      "source": [
        "\"\"\"Handling missing data\"\"\"\n",
        "input1 = {'x': [0, 1, np.nan, 5, 8]} # data with missing value\n",
        "\n",
        "df1 = pd.DataFrame(input1)\n",
        "# print(df1)\n",
        "\n",
        "df1.mean() # nan value ommited\n",
        "\n",
        "df1.mean(skipna=False) # does not skip NaN -> returns NaN\n",
        "\n",
        "# fill missing data\n",
        "df1.fillna(value=3)\n",
        "\n",
        "df1.fillna(method=\"ffill\") # fills using previous value\n",
        "\n",
        "df1.fillna(method=\"bfill\") # fills using next value\n",
        "\n",
        "# interpolation\n",
        "df1.interpolate() # replace missing with interpolated values\n",
        "\n",
        "# delete rows/columns with missing data\n",
        "df1.dropna()\n"
      ],
      "metadata": {
        "id": "dFp0Ky2MNHId"
      },
      "execution_count": null,
      "outputs": []
    },
    {
      "cell_type": "code",
      "source": [
        "\"\"\"Iterating over dataframe\"\"\"\n",
        "# .items(), .iteritems -> iterate over columns\n",
        "\n",
        "for r, c in df.iteritems():\n",
        "  print(r, c, sep=\"\\n\", end=\"\\n\\n\") # col by col\n",
        "\n",
        "# .iterrows() -> iterate over rows\n",
        "\n",
        "for r, c in df.iterrows():\n",
        "  print(r, c, sep=\"\\n\", end=\"\\n\\n\") # row by row\n",
        "\n",
        "# .itertuple() -> iterate over rows, get named tuples\n",
        "\n",
        "for r in df.loc[:, ['open', 'close', 'volume']].itertuples(): # named tuples\n",
        "  print(r)"
      ],
      "metadata": {
        "id": "fqeTm_w96qme"
      },
      "execution_count": null,
      "outputs": []
    },
    {
      "cell_type": "code",
      "source": [
        "\"\"\"Time-series data\"\"\"\n",
        "closes = df['close'].values\n",
        "# print(closes)\n",
        "\n",
        "# # sequence of dates and times\n",
        "dates = pd.date_range(start='2022-04-01 00:00:00.0', periods=9, freq='H')\n",
        "# print(dates)\n",
        "\n",
        "final = pd.DataFrame(data={'closes': closes}, index=dates) # map closes to dates\n",
        "print(final)"
      ],
      "metadata": {
        "id": "yuigwvJxNHMW"
      },
      "execution_count": null,
      "outputs": []
    },
    {
      "cell_type": "code",
      "source": [
        "# indexing and slicing\n",
        "mid = final['2022-04-01 03':'2022-04-01 06'] # closes between 3pm and 6pm\n",
        "# print(mid)\n",
        "\n",
        "# resampleing\n",
        "final.resample(rule='2h').mean() # split into 2h intervals, get mean at each interval\n",
        "\n",
        "# rolling -> window rolling analysis, statistics for specified adjacent rows\n",
        "final.rolling(window=2).mean()"
      ],
      "metadata": {
        "id": "WXcGpmwt9kZW"
      },
      "execution_count": null,
      "outputs": []
    },
    {
      "cell_type": "code",
      "source": [
        "\"\"\"Plotting, Pandas, Dataframes\"\"\"\n",
        "final.plot()\n",
        "# plt.show()\n",
        "\n",
        "# save figure\n",
        "final.plot().get_figure().savefig('btc.png')"
      ],
      "metadata": {
        "id": "S_gXWz97-tDT"
      },
      "execution_count": null,
      "outputs": []
    }
  ]
}